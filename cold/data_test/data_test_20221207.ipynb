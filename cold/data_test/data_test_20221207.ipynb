{
 "cells": [
  {
   "cell_type": "code",
   "execution_count": 1,
   "metadata": {},
   "outputs": [
    {
     "ename": "ModuleNotFoundError",
     "evalue": "No module named 'cold'",
     "output_type": "error",
     "traceback": [
      "\u001b[31m---------------------------------------------------------------------------\u001b[39m",
      "\u001b[31mModuleNotFoundError\u001b[39m                       Traceback (most recent call last)",
      "\u001b[36mCell\u001b[39m\u001b[36m \u001b[39m\u001b[32mIn[1]\u001b[39m\u001b[32m, line 1\u001b[39m\n\u001b[32m----> \u001b[39m\u001b[32m1\u001b[39m \u001b[38;5;28;01mimport\u001b[39;00m\u001b[38;5;250m \u001b[39m\u001b[34;01mcold\u001b[39;00m\n\u001b[32m      2\u001b[39m \u001b[38;5;66;03m# import latex\u001b[39;00m\n\u001b[32m      3\u001b[39m \u001b[38;5;66;03m# import dxchange\u001b[39;00m\n",
      "\u001b[31mModuleNotFoundError\u001b[39m: No module named 'cold'"
     ]
    }
   ],
   "source": [
    "import cold\n",
    "# import latex\n",
    "# import dxchange"
   ]
  },
  {
   "cell_type": "code",
   "execution_count": 3,
   "metadata": {},
   "outputs": [
    {
     "name": "stderr",
     "output_type": "stream",
     "text": [
      "INFO:root:Loaded: /Users/xiaogangyang/data/ca_doga/Ni_pos1_mask2/Ni_pos1_mask2_1.h5Frame: [0, 2048, 0, 2048]\n",
      "INFO:root:Loaded: /Users/xiaogangyang/data/ca_doga/Ni_pos1_mask2/Ni_pos1_mask2_1.h5Frame: [0, 2048, 0, 2048]\n"
     ]
    },
    {
     "name": "stdout",
     "output_type": "stream",
     "text": [
      "[PosixPath('/Users/xiaogangyang/data/ca_doga/Ni_pos1_mask2/Ni_pos1_mask2_1.h5'), PosixPath('/Users/xiaogangyang/data/ca_doga/Ni_pos1_mask2/Ni_pos1_mask2_2.h5'), PosixPath('/Users/xiaogangyang/data/ca_doga/Ni_pos1_mask2/Ni_pos1_mask2_3.h5'), PosixPath('/Users/xiaogangyang/data/ca_doga/Ni_pos1_mask2/Ni_pos1_mask2_4.h5'), PosixPath('/Users/xiaogangyang/data/ca_doga/Ni_pos1_mask2/Ni_pos1_mask2_5.h5'), PosixPath('/Users/xiaogangyang/data/ca_doga/Ni_pos1_mask2/Ni_pos1_mask2_6.h5'), PosixPath('/Users/xiaogangyang/data/ca_doga/Ni_pos1_mask2/Ni_pos1_mask2_7.h5'), PosixPath('/Users/xiaogangyang/data/ca_doga/Ni_pos1_mask2/Ni_pos1_mask2_8.h5'), PosixPath('/Users/xiaogangyang/data/ca_doga/Ni_pos1_mask2/Ni_pos1_mask2_9.h5'), PosixPath('/Users/xiaogangyang/data/ca_doga/Ni_pos1_mask2/Ni_pos1_mask2_10.h5'), PosixPath('/Users/xiaogangyang/data/ca_doga/Ni_pos1_mask2/Ni_pos1_mask2_11.h5'), PosixPath('/Users/xiaogangyang/data/ca_doga/Ni_pos1_mask2/Ni_pos1_mask2_12.h5'), PosixPath('/Users/xiaogangyang/data/ca_doga/Ni_pos1_mask2/Ni_pos1_mask2_13.h5'), PosixPath('/Users/xiaogangyang/data/ca_doga/Ni_pos1_mask2/Ni_pos1_mask2_14.h5'), PosixPath('/Users/xiaogangyang/data/ca_doga/Ni_pos1_mask2/Ni_pos1_mask2_15.h5'), PosixPath('/Users/xiaogangyang/data/ca_doga/Ni_pos1_mask2/Ni_pos1_mask2_16.h5'), PosixPath('/Users/xiaogangyang/data/ca_doga/Ni_pos1_mask2/Ni_pos1_mask2_17.h5'), PosixPath('/Users/xiaogangyang/data/ca_doga/Ni_pos1_mask2/Ni_pos1_mask2_18.h5'), PosixPath('/Users/xiaogangyang/data/ca_doga/Ni_pos1_mask2/Ni_pos1_mask2_19.h5'), PosixPath('/Users/xiaogangyang/data/ca_doga/Ni_pos1_mask2/Ni_pos1_mask2_20.h5'), PosixPath('/Users/xiaogangyang/data/ca_doga/Ni_pos1_mask2/Ni_pos1_mask2_21.h5'), PosixPath('/Users/xiaogangyang/data/ca_doga/Ni_pos1_mask2/Ni_pos1_mask2_22.h5'), PosixPath('/Users/xiaogangyang/data/ca_doga/Ni_pos1_mask2/Ni_pos1_mask2_23.h5'), PosixPath('/Users/xiaogangyang/data/ca_doga/Ni_pos1_mask2/Ni_pos1_mask2_24.h5'), PosixPath('/Users/xiaogangyang/data/ca_doga/Ni_pos1_mask2/Ni_pos1_mask2_25.h5'), PosixPath('/Users/xiaogangyang/data/ca_doga/Ni_pos1_mask2/Ni_pos1_mask2_26.h5'), PosixPath('/Users/xiaogangyang/data/ca_doga/Ni_pos1_mask2/Ni_pos1_mask2_27.h5'), PosixPath('/Users/xiaogangyang/data/ca_doga/Ni_pos1_mask2/Ni_pos1_mask2_28.h5'), PosixPath('/Users/xiaogangyang/data/ca_doga/Ni_pos1_mask2/Ni_pos1_mask2_29.h5'), PosixPath('/Users/xiaogangyang/data/ca_doga/Ni_pos1_mask2/Ni_pos1_mask2_30.h5'), PosixPath('/Users/xiaogangyang/data/ca_doga/Ni_pos1_mask2/Ni_pos1_mask2_31.h5'), PosixPath('/Users/xiaogangyang/data/ca_doga/Ni_pos1_mask2/Ni_pos1_mask2_32.h5'), PosixPath('/Users/xiaogangyang/data/ca_doga/Ni_pos1_mask2/Ni_pos1_mask2_33.h5'), PosixPath('/Users/xiaogangyang/data/ca_doga/Ni_pos1_mask2/Ni_pos1_mask2_34.h5'), PosixPath('/Users/xiaogangyang/data/ca_doga/Ni_pos1_mask2/Ni_pos1_mask2_35.h5'), PosixPath('/Users/xiaogangyang/data/ca_doga/Ni_pos1_mask2/Ni_pos1_mask2_36.h5'), PosixPath('/Users/xiaogangyang/data/ca_doga/Ni_pos1_mask2/Ni_pos1_mask2_37.h5'), PosixPath('/Users/xiaogangyang/data/ca_doga/Ni_pos1_mask2/Ni_pos1_mask2_38.h5'), PosixPath('/Users/xiaogangyang/data/ca_doga/Ni_pos1_mask2/Ni_pos1_mask2_39.h5'), PosixPath('/Users/xiaogangyang/data/ca_doga/Ni_pos1_mask2/Ni_pos1_mask2_40.h5'), PosixPath('/Users/xiaogangyang/data/ca_doga/Ni_pos1_mask2/Ni_pos1_mask2_41.h5'), PosixPath('/Users/xiaogangyang/data/ca_doga/Ni_pos1_mask2/Ni_pos1_mask2_42.h5'), PosixPath('/Users/xiaogangyang/data/ca_doga/Ni_pos1_mask2/Ni_pos1_mask2_43.h5'), PosixPath('/Users/xiaogangyang/data/ca_doga/Ni_pos1_mask2/Ni_pos1_mask2_44.h5'), PosixPath('/Users/xiaogangyang/data/ca_doga/Ni_pos1_mask2/Ni_pos1_mask2_45.h5'), PosixPath('/Users/xiaogangyang/data/ca_doga/Ni_pos1_mask2/Ni_pos1_mask2_46.h5'), PosixPath('/Users/xiaogangyang/data/ca_doga/Ni_pos1_mask2/Ni_pos1_mask2_47.h5'), PosixPath('/Users/xiaogangyang/data/ca_doga/Ni_pos1_mask2/Ni_pos1_mask2_48.h5'), PosixPath('/Users/xiaogangyang/data/ca_doga/Ni_pos1_mask2/Ni_pos1_mask2_49.h5'), PosixPath('/Users/xiaogangyang/data/ca_doga/Ni_pos1_mask2/Ni_pos1_mask2_50.h5'), PosixPath('/Users/xiaogangyang/data/ca_doga/Ni_pos1_mask2/Ni_pos1_mask2_51.h5'), PosixPath('/Users/xiaogangyang/data/ca_doga/Ni_pos1_mask2/Ni_pos1_mask2_52.h5'), PosixPath('/Users/xiaogangyang/data/ca_doga/Ni_pos1_mask2/Ni_pos1_mask2_53.h5'), PosixPath('/Users/xiaogangyang/data/ca_doga/Ni_pos1_mask2/Ni_pos1_mask2_54.h5'), PosixPath('/Users/xiaogangyang/data/ca_doga/Ni_pos1_mask2/Ni_pos1_mask2_55.h5'), PosixPath('/Users/xiaogangyang/data/ca_doga/Ni_pos1_mask2/Ni_pos1_mask2_56.h5'), PosixPath('/Users/xiaogangyang/data/ca_doga/Ni_pos1_mask2/Ni_pos1_mask2_57.h5'), PosixPath('/Users/xiaogangyang/data/ca_doga/Ni_pos1_mask2/Ni_pos1_mask2_58.h5'), PosixPath('/Users/xiaogangyang/data/ca_doga/Ni_pos1_mask2/Ni_pos1_mask2_59.h5'), PosixPath('/Users/xiaogangyang/data/ca_doga/Ni_pos1_mask2/Ni_pos1_mask2_60.h5'), PosixPath('/Users/xiaogangyang/data/ca_doga/Ni_pos1_mask2/Ni_pos1_mask2_61.h5'), PosixPath('/Users/xiaogangyang/data/ca_doga/Ni_pos1_mask2/Ni_pos1_mask2_62.h5'), PosixPath('/Users/xiaogangyang/data/ca_doga/Ni_pos1_mask2/Ni_pos1_mask2_63.h5'), PosixPath('/Users/xiaogangyang/data/ca_doga/Ni_pos1_mask2/Ni_pos1_mask2_64.h5'), PosixPath('/Users/xiaogangyang/data/ca_doga/Ni_pos1_mask2/Ni_pos1_mask2_65.h5'), PosixPath('/Users/xiaogangyang/data/ca_doga/Ni_pos1_mask2/Ni_pos1_mask2_66.h5'), PosixPath('/Users/xiaogangyang/data/ca_doga/Ni_pos1_mask2/Ni_pos1_mask2_67.h5'), PosixPath('/Users/xiaogangyang/data/ca_doga/Ni_pos1_mask2/Ni_pos1_mask2_68.h5'), PosixPath('/Users/xiaogangyang/data/ca_doga/Ni_pos1_mask2/Ni_pos1_mask2_69.h5'), PosixPath('/Users/xiaogangyang/data/ca_doga/Ni_pos1_mask2/Ni_pos1_mask2_70.h5'), PosixPath('/Users/xiaogangyang/data/ca_doga/Ni_pos1_mask2/Ni_pos1_mask2_71.h5'), PosixPath('/Users/xiaogangyang/data/ca_doga/Ni_pos1_mask2/Ni_pos1_mask2_72.h5'), PosixPath('/Users/xiaogangyang/data/ca_doga/Ni_pos1_mask2/Ni_pos1_mask2_73.h5')]\n"
     ]
    },
    {
     "name": "stderr",
     "output_type": "stream",
     "text": [
      "INFO:root:Loaded: /Users/xiaogangyang/data/ca_doga/Ni_pos1_mask2/Ni_pos1_mask2_2.h5Frame: [0, 2048, 0, 2048]\n",
      "INFO:root:Loaded: /Users/xiaogangyang/data/ca_doga/Ni_pos1_mask2/Ni_pos1_mask2_3.h5Frame: [0, 2048, 0, 2048]\n",
      "INFO:root:Loaded: /Users/xiaogangyang/data/ca_doga/Ni_pos1_mask2/Ni_pos1_mask2_4.h5Frame: [0, 2048, 0, 2048]\n",
      "INFO:root:Loaded: /Users/xiaogangyang/data/ca_doga/Ni_pos1_mask2/Ni_pos1_mask2_5.h5Frame: [0, 2048, 0, 2048]\n",
      "INFO:root:Loaded: /Users/xiaogangyang/data/ca_doga/Ni_pos1_mask2/Ni_pos1_mask2_6.h5Frame: [0, 2048, 0, 2048]\n",
      "INFO:root:Loaded: /Users/xiaogangyang/data/ca_doga/Ni_pos1_mask2/Ni_pos1_mask2_7.h5Frame: [0, 2048, 0, 2048]\n",
      "INFO:root:Loaded: /Users/xiaogangyang/data/ca_doga/Ni_pos1_mask2/Ni_pos1_mask2_8.h5Frame: [0, 2048, 0, 2048]\n",
      "INFO:root:Loaded: /Users/xiaogangyang/data/ca_doga/Ni_pos1_mask2/Ni_pos1_mask2_9.h5Frame: [0, 2048, 0, 2048]\n",
      "INFO:root:Loaded: /Users/xiaogangyang/data/ca_doga/Ni_pos1_mask2/Ni_pos1_mask2_10.h5Frame: [0, 2048, 0, 2048]\n",
      "INFO:root:Loaded: /Users/xiaogangyang/data/ca_doga/Ni_pos1_mask2/Ni_pos1_mask2_11.h5Frame: [0, 2048, 0, 2048]\n",
      "INFO:root:Loaded: /Users/xiaogangyang/data/ca_doga/Ni_pos1_mask2/Ni_pos1_mask2_12.h5Frame: [0, 2048, 0, 2048]\n",
      "INFO:root:Loaded: /Users/xiaogangyang/data/ca_doga/Ni_pos1_mask2/Ni_pos1_mask2_13.h5Frame: [0, 2048, 0, 2048]\n",
      "INFO:root:Loaded: /Users/xiaogangyang/data/ca_doga/Ni_pos1_mask2/Ni_pos1_mask2_14.h5Frame: [0, 2048, 0, 2048]\n",
      "INFO:root:Loaded: /Users/xiaogangyang/data/ca_doga/Ni_pos1_mask2/Ni_pos1_mask2_15.h5Frame: [0, 2048, 0, 2048]\n",
      "INFO:root:Loaded: /Users/xiaogangyang/data/ca_doga/Ni_pos1_mask2/Ni_pos1_mask2_16.h5Frame: [0, 2048, 0, 2048]\n",
      "INFO:root:Loaded: /Users/xiaogangyang/data/ca_doga/Ni_pos1_mask2/Ni_pos1_mask2_17.h5Frame: [0, 2048, 0, 2048]\n",
      "INFO:root:Loaded: /Users/xiaogangyang/data/ca_doga/Ni_pos1_mask2/Ni_pos1_mask2_18.h5Frame: [0, 2048, 0, 2048]\n",
      "INFO:root:Loaded: /Users/xiaogangyang/data/ca_doga/Ni_pos1_mask2/Ni_pos1_mask2_19.h5Frame: [0, 2048, 0, 2048]\n",
      "INFO:root:Loaded: /Users/xiaogangyang/data/ca_doga/Ni_pos1_mask2/Ni_pos1_mask2_20.h5Frame: [0, 2048, 0, 2048]\n",
      "INFO:root:Loaded: /Users/xiaogangyang/data/ca_doga/Ni_pos1_mask2/Ni_pos1_mask2_21.h5Frame: [0, 2048, 0, 2048]\n",
      "INFO:root:Loaded: /Users/xiaogangyang/data/ca_doga/Ni_pos1_mask2/Ni_pos1_mask2_22.h5Frame: [0, 2048, 0, 2048]\n",
      "INFO:root:Loaded: /Users/xiaogangyang/data/ca_doga/Ni_pos1_mask2/Ni_pos1_mask2_23.h5Frame: [0, 2048, 0, 2048]\n",
      "INFO:root:Loaded: /Users/xiaogangyang/data/ca_doga/Ni_pos1_mask2/Ni_pos1_mask2_24.h5Frame: [0, 2048, 0, 2048]\n",
      "INFO:root:Loaded: /Users/xiaogangyang/data/ca_doga/Ni_pos1_mask2/Ni_pos1_mask2_25.h5Frame: [0, 2048, 0, 2048]\n",
      "INFO:root:Loaded: /Users/xiaogangyang/data/ca_doga/Ni_pos1_mask2/Ni_pos1_mask2_26.h5Frame: [0, 2048, 0, 2048]\n",
      "INFO:root:Loaded: /Users/xiaogangyang/data/ca_doga/Ni_pos1_mask2/Ni_pos1_mask2_27.h5Frame: [0, 2048, 0, 2048]\n",
      "INFO:root:Loaded: /Users/xiaogangyang/data/ca_doga/Ni_pos1_mask2/Ni_pos1_mask2_28.h5Frame: [0, 2048, 0, 2048]\n",
      "INFO:root:Loaded: /Users/xiaogangyang/data/ca_doga/Ni_pos1_mask2/Ni_pos1_mask2_29.h5Frame: [0, 2048, 0, 2048]\n",
      "INFO:root:Loaded: /Users/xiaogangyang/data/ca_doga/Ni_pos1_mask2/Ni_pos1_mask2_30.h5Frame: [0, 2048, 0, 2048]\n",
      "INFO:root:Loaded: /Users/xiaogangyang/data/ca_doga/Ni_pos1_mask2/Ni_pos1_mask2_31.h5Frame: [0, 2048, 0, 2048]\n",
      "INFO:root:Loaded: /Users/xiaogangyang/data/ca_doga/Ni_pos1_mask2/Ni_pos1_mask2_32.h5Frame: [0, 2048, 0, 2048]\n",
      "INFO:root:Loaded: /Users/xiaogangyang/data/ca_doga/Ni_pos1_mask2/Ni_pos1_mask2_33.h5Frame: [0, 2048, 0, 2048]\n",
      "INFO:root:Loaded: /Users/xiaogangyang/data/ca_doga/Ni_pos1_mask2/Ni_pos1_mask2_34.h5Frame: [0, 2048, 0, 2048]\n",
      "INFO:root:Loaded: /Users/xiaogangyang/data/ca_doga/Ni_pos1_mask2/Ni_pos1_mask2_35.h5Frame: [0, 2048, 0, 2048]\n",
      "INFO:root:Loaded: /Users/xiaogangyang/data/ca_doga/Ni_pos1_mask2/Ni_pos1_mask2_36.h5Frame: [0, 2048, 0, 2048]\n",
      "INFO:root:Loaded: /Users/xiaogangyang/data/ca_doga/Ni_pos1_mask2/Ni_pos1_mask2_37.h5Frame: [0, 2048, 0, 2048]\n",
      "INFO:root:Loaded: /Users/xiaogangyang/data/ca_doga/Ni_pos1_mask2/Ni_pos1_mask2_38.h5Frame: [0, 2048, 0, 2048]\n",
      "INFO:root:Loaded: /Users/xiaogangyang/data/ca_doga/Ni_pos1_mask2/Ni_pos1_mask2_39.h5Frame: [0, 2048, 0, 2048]\n",
      "INFO:root:Loaded: /Users/xiaogangyang/data/ca_doga/Ni_pos1_mask2/Ni_pos1_mask2_40.h5Frame: [0, 2048, 0, 2048]\n",
      "INFO:root:Loaded: /Users/xiaogangyang/data/ca_doga/Ni_pos1_mask2/Ni_pos1_mask2_41.h5Frame: [0, 2048, 0, 2048]\n",
      "INFO:root:Loaded: /Users/xiaogangyang/data/ca_doga/Ni_pos1_mask2/Ni_pos1_mask2_42.h5Frame: [0, 2048, 0, 2048]\n",
      "INFO:root:Loaded: /Users/xiaogangyang/data/ca_doga/Ni_pos1_mask2/Ni_pos1_mask2_43.h5Frame: [0, 2048, 0, 2048]\n",
      "INFO:root:Loaded: /Users/xiaogangyang/data/ca_doga/Ni_pos1_mask2/Ni_pos1_mask2_44.h5Frame: [0, 2048, 0, 2048]\n",
      "INFO:root:Loaded: /Users/xiaogangyang/data/ca_doga/Ni_pos1_mask2/Ni_pos1_mask2_45.h5Frame: [0, 2048, 0, 2048]\n",
      "INFO:root:Loaded: /Users/xiaogangyang/data/ca_doga/Ni_pos1_mask2/Ni_pos1_mask2_46.h5Frame: [0, 2048, 0, 2048]\n",
      "INFO:root:Loaded: /Users/xiaogangyang/data/ca_doga/Ni_pos1_mask2/Ni_pos1_mask2_47.h5Frame: [0, 2048, 0, 2048]\n",
      "INFO:root:Loaded: /Users/xiaogangyang/data/ca_doga/Ni_pos1_mask2/Ni_pos1_mask2_48.h5Frame: [0, 2048, 0, 2048]\n",
      "INFO:root:Loaded: /Users/xiaogangyang/data/ca_doga/Ni_pos1_mask2/Ni_pos1_mask2_49.h5Frame: [0, 2048, 0, 2048]\n",
      "INFO:root:Loaded: /Users/xiaogangyang/data/ca_doga/Ni_pos1_mask2/Ni_pos1_mask2_50.h5Frame: [0, 2048, 0, 2048]\n",
      "INFO:root:Loaded: /Users/xiaogangyang/data/ca_doga/Ni_pos1_mask2/Ni_pos1_mask2_51.h5Frame: [0, 2048, 0, 2048]\n",
      "INFO:root:Loaded: /Users/xiaogangyang/data/ca_doga/Ni_pos1_mask2/Ni_pos1_mask2_52.h5Frame: [0, 2048, 0, 2048]\n",
      "INFO:root:Loaded: /Users/xiaogangyang/data/ca_doga/Ni_pos1_mask2/Ni_pos1_mask2_53.h5Frame: [0, 2048, 0, 2048]\n",
      "INFO:root:Loaded: /Users/xiaogangyang/data/ca_doga/Ni_pos1_mask2/Ni_pos1_mask2_54.h5Frame: [0, 2048, 0, 2048]\n",
      "INFO:root:Loaded: /Users/xiaogangyang/data/ca_doga/Ni_pos1_mask2/Ni_pos1_mask2_55.h5Frame: [0, 2048, 0, 2048]\n",
      "INFO:root:Loaded: /Users/xiaogangyang/data/ca_doga/Ni_pos1_mask2/Ni_pos1_mask2_56.h5Frame: [0, 2048, 0, 2048]\n",
      "INFO:root:Loaded: /Users/xiaogangyang/data/ca_doga/Ni_pos1_mask2/Ni_pos1_mask2_57.h5Frame: [0, 2048, 0, 2048]\n",
      "INFO:root:Loaded: /Users/xiaogangyang/data/ca_doga/Ni_pos1_mask2/Ni_pos1_mask2_58.h5Frame: [0, 2048, 0, 2048]\n",
      "INFO:root:Loaded: /Users/xiaogangyang/data/ca_doga/Ni_pos1_mask2/Ni_pos1_mask2_59.h5Frame: [0, 2048, 0, 2048]\n",
      "INFO:root:Loaded: /Users/xiaogangyang/data/ca_doga/Ni_pos1_mask2/Ni_pos1_mask2_60.h5Frame: [0, 2048, 0, 2048]\n",
      "INFO:root:Loaded: /Users/xiaogangyang/data/ca_doga/Ni_pos1_mask2/Ni_pos1_mask2_61.h5Frame: [0, 2048, 0, 2048]\n",
      "INFO:root:Loaded: /Users/xiaogangyang/data/ca_doga/Ni_pos1_mask2/Ni_pos1_mask2_62.h5Frame: [0, 2048, 0, 2048]\n",
      "INFO:root:Loaded: /Users/xiaogangyang/data/ca_doga/Ni_pos1_mask2/Ni_pos1_mask2_63.h5Frame: [0, 2048, 0, 2048]\n",
      "INFO:root:Loaded: /Users/xiaogangyang/data/ca_doga/Ni_pos1_mask2/Ni_pos1_mask2_64.h5Frame: [0, 2048, 0, 2048]\n",
      "INFO:root:Loaded: /Users/xiaogangyang/data/ca_doga/Ni_pos1_mask2/Ni_pos1_mask2_65.h5Frame: [0, 2048, 0, 2048]\n",
      "INFO:root:Loaded: /Users/xiaogangyang/data/ca_doga/Ni_pos1_mask2/Ni_pos1_mask2_66.h5Frame: [0, 2048, 0, 2048]\n",
      "INFO:root:Loaded: /Users/xiaogangyang/data/ca_doga/Ni_pos1_mask2/Ni_pos1_mask2_67.h5Frame: [0, 2048, 0, 2048]\n",
      "INFO:root:Loaded: /Users/xiaogangyang/data/ca_doga/Ni_pos1_mask2/Ni_pos1_mask2_68.h5Frame: [0, 2048, 0, 2048]\n",
      "INFO:root:Loaded: /Users/xiaogangyang/data/ca_doga/Ni_pos1_mask2/Ni_pos1_mask2_69.h5Frame: [0, 2048, 0, 2048]\n",
      "INFO:root:Loaded: /Users/xiaogangyang/data/ca_doga/Ni_pos1_mask2/Ni_pos1_mask2_70.h5Frame: [0, 2048, 0, 2048]\n",
      "INFO:root:Loaded: /Users/xiaogangyang/data/ca_doga/Ni_pos1_mask2/Ni_pos1_mask2_71.h5Frame: [0, 2048, 0, 2048]\n",
      "INFO:root:Loaded: /Users/xiaogangyang/data/ca_doga/Ni_pos1_mask2/Ni_pos1_mask2_72.h5Frame: [0, 2048, 0, 2048]\n",
      "INFO:root:Loaded: /Users/xiaogangyang/data/ca_doga/Ni_pos1_mask2/Ni_pos1_mask2_73.h5Frame: [0, 2048, 0, 2048]\n",
      "INFO:root:Data size: (1846, 73), 0.54 MB\n"
     ]
    },
    {
     "name": "stdout",
     "output_type": "stream",
     "text": [
      "(1846, 73) [[   4  407]\n",
      " [   4 1186]\n",
      " [   7  962]\n",
      " ...\n",
      " [1989 1716]\n",
      " [2009  299]\n",
      " [2015  284]]\n"
     ]
    }
   ],
   "source": [
    "file, comp, geo, algo = cold.config('./config-Ni_pos1_mask_2.yml')\n",
    "\n",
    "# data = cold.loadsingle(file, id=1)\n",
    "# dxchange.write_tiff(data)\n",
    "data, ind = cold.load(file)\n",
    "print(data.shape, ind)\n",
    "pos, sig, scl = cold.decode(data, ind, comp, geo, algo, debug=True)\n",
    "dep, lau = cold.resolve(data, ind, pos, sig, geo, comp)\n",
    "shape = geo['detector']['shape']\n",
    "print('Reconstruction has been done.')\n",
    "cold.saveimg('/Users/xiaogangyang/data/ca_doga/tmp/pos/pos', pos, ind, shape)\n",
    "cold.plotarr('/Users/xiaogangyang/data/ca_doga/tmp/sig/sig', sig, plots=False)\n",
    "cold.saveplt('/Users/xiaogangyang/data/ca_doga/tmp/dep/dep', dep, geo['source']['grid'])\n",
    "cold.saveimg('/Users/xiaogangyang/data/ca_doga/tmp/lau/lau', lau, ind, shape, swap=True)"
   ]
  }
 ],
 "metadata": {
  "kernelspec": {
   "display_name": "default",
   "language": "python",
   "name": "python3"
  },
  "language_info": {
   "codemirror_mode": {
    "name": "ipython",
    "version": 3
   },
   "file_extension": ".py",
   "mimetype": "text/x-python",
   "name": "python",
   "nbconvert_exporter": "python",
   "pygments_lexer": "ipython3",
   "version": "3.12.12"
  },
  "orig_nbformat": 4
 },
 "nbformat": 4,
 "nbformat_minor": 2
}
